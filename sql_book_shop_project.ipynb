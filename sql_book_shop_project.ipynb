{
 "cells": [
  {
   "cell_type": "markdown",
   "id": "2324a340",
   "metadata": {},
   "source": [
    "**The purpose of analysis** to help the startup o develop new apps for book lovers.\n",
    "\n",
    "**The task** to get information from the given database of one of the services competing in this market. It contains data on books, publishers, authors, and customer ratings and reviews of books. This information will be used to generate a value proposition for a new product."
   ]
  },
  {
   "cell_type": "markdown",
   "id": "d2f98d08",
   "metadata": {},
   "source": [
    "Let's load libraries and make connection with database."
   ]
  },
  {
   "cell_type": "code",
   "execution_count": 1,
   "id": "14962f9f",
   "metadata": {},
   "outputs": [],
   "source": [
    "import pandas as pd\n",
    "import warnings\n",
    "warnings.filterwarnings(\"ignore\")\n",
    "from IPython.core.interactiveshell import InteractiveShell\n",
    "InteractiveShell.ast_node_interactivity='all'"
   ]
  },
  {
   "cell_type": "code",
   "execution_count": 2,
   "id": "7f402ba3",
   "metadata": {},
   "outputs": [
    {
     "name": "stdout",
     "output_type": "stream",
     "text": [
      "Requirement already satisfied: psycopg2-binary in c:\\users\\eduda\\anaconda3\\lib\\site-packages (2.9.3)\n"
     ]
    }
   ],
   "source": [
    "!pip install psycopg2-binary"
   ]
  },
  {
   "cell_type": "code",
   "execution_count": 3,
   "id": "3a187857",
   "metadata": {},
   "outputs": [],
   "source": [
    "from sqlalchemy import create_engine\n",
    "\n",
    "\n",
    "db_config = {'user': 'praktikum_student',         # user name\n",
    "             'pwd': 'Sdf4$2;d-d30pp', # password\n",
    "             'host': 'rc1b-wcoijxj3yxfsf3fs.mdb.yandexcloud.net',\n",
    "             'port': 6432,              # connection port\n",
    "             'db': 'data-analyst-final-project-db'}          # the name of the data base\n",
    "\n",
    "connection_string = 'postgresql://{}:{}@{}:{}/{}'.format(db_config['user'],\n",
    "                                                                     db_config['pwd'],\n",
    "                                                                       db_config['host'],\n",
    "                                                                       db_config['port'],\n",
    "                                                                       db_config['db'])\n",
    "\n",
    "engine = create_engine(connection_string, connect_args={'sslmode':'require'})"
   ]
  },
  {
   "cell_type": "markdown",
   "id": "33938dee",
   "metadata": {},
   "source": [
    "Study the tables (print the first rows)."
   ]
  },
  {
   "cell_type": "markdown",
   "id": "b3ddd133",
   "metadata": {},
   "source": [
    "Description of the `**books**` table.\n",
    "Contains data on books:\n",
    "- `book_id`\n",
    "- `author_id`\n",
    "- `title`\n",
    "- `num_pages` — number of pages\n",
    "- `publication_date`\n",
    "- `publisher_id`"
   ]
  },
  {
   "cell_type": "code",
   "execution_count": 4,
   "id": "d94e70f3",
   "metadata": {},
   "outputs": [
    {
     "data": {
      "text/html": [
       "<div>\n",
       "<style scoped>\n",
       "    .dataframe tbody tr th:only-of-type {\n",
       "        vertical-align: middle;\n",
       "    }\n",
       "\n",
       "    .dataframe tbody tr th {\n",
       "        vertical-align: top;\n",
       "    }\n",
       "\n",
       "    .dataframe thead th {\n",
       "        text-align: right;\n",
       "    }\n",
       "</style>\n",
       "<table border=\"1\" class=\"dataframe\">\n",
       "  <thead>\n",
       "    <tr style=\"text-align: right;\">\n",
       "      <th></th>\n",
       "      <th>book_id</th>\n",
       "      <th>author_id</th>\n",
       "      <th>title</th>\n",
       "      <th>num_pages</th>\n",
       "      <th>publication_date</th>\n",
       "      <th>publisher_id</th>\n",
       "    </tr>\n",
       "  </thead>\n",
       "  <tbody>\n",
       "    <tr>\n",
       "      <th>0</th>\n",
       "      <td>1</td>\n",
       "      <td>546</td>\n",
       "      <td>'Salem's Lot</td>\n",
       "      <td>594</td>\n",
       "      <td>2005-11-01</td>\n",
       "      <td>93</td>\n",
       "    </tr>\n",
       "    <tr>\n",
       "      <th>1</th>\n",
       "      <td>2</td>\n",
       "      <td>465</td>\n",
       "      <td>1 000 Places to See Before You Die</td>\n",
       "      <td>992</td>\n",
       "      <td>2003-05-22</td>\n",
       "      <td>336</td>\n",
       "    </tr>\n",
       "    <tr>\n",
       "      <th>2</th>\n",
       "      <td>3</td>\n",
       "      <td>407</td>\n",
       "      <td>13 Little Blue Envelopes (Little Blue Envelope...</td>\n",
       "      <td>322</td>\n",
       "      <td>2010-12-21</td>\n",
       "      <td>135</td>\n",
       "    </tr>\n",
       "    <tr>\n",
       "      <th>3</th>\n",
       "      <td>4</td>\n",
       "      <td>82</td>\n",
       "      <td>1491: New Revelations of the Americas Before C...</td>\n",
       "      <td>541</td>\n",
       "      <td>2006-10-10</td>\n",
       "      <td>309</td>\n",
       "    </tr>\n",
       "    <tr>\n",
       "      <th>4</th>\n",
       "      <td>5</td>\n",
       "      <td>125</td>\n",
       "      <td>1776</td>\n",
       "      <td>386</td>\n",
       "      <td>2006-07-04</td>\n",
       "      <td>268</td>\n",
       "    </tr>\n",
       "    <tr>\n",
       "      <th>...</th>\n",
       "      <td>...</td>\n",
       "      <td>...</td>\n",
       "      <td>...</td>\n",
       "      <td>...</td>\n",
       "      <td>...</td>\n",
       "      <td>...</td>\n",
       "    </tr>\n",
       "    <tr>\n",
       "      <th>995</th>\n",
       "      <td>996</td>\n",
       "      <td>571</td>\n",
       "      <td>Wyrd Sisters (Discworld  #6; Witches #2)</td>\n",
       "      <td>265</td>\n",
       "      <td>2001-02-06</td>\n",
       "      <td>147</td>\n",
       "    </tr>\n",
       "    <tr>\n",
       "      <th>996</th>\n",
       "      <td>997</td>\n",
       "      <td>454</td>\n",
       "      <td>Xenocide (Ender's Saga  #3)</td>\n",
       "      <td>592</td>\n",
       "      <td>1996-07-15</td>\n",
       "      <td>297</td>\n",
       "    </tr>\n",
       "    <tr>\n",
       "      <th>997</th>\n",
       "      <td>998</td>\n",
       "      <td>201</td>\n",
       "      <td>Year of Wonders</td>\n",
       "      <td>358</td>\n",
       "      <td>2002-04-30</td>\n",
       "      <td>212</td>\n",
       "    </tr>\n",
       "    <tr>\n",
       "      <th>998</th>\n",
       "      <td>999</td>\n",
       "      <td>94</td>\n",
       "      <td>You Suck (A Love Story  #2)</td>\n",
       "      <td>328</td>\n",
       "      <td>2007-01-16</td>\n",
       "      <td>331</td>\n",
       "    </tr>\n",
       "    <tr>\n",
       "      <th>999</th>\n",
       "      <td>1000</td>\n",
       "      <td>509</td>\n",
       "      <td>Zen and the Art of Motorcycle Maintenance: An ...</td>\n",
       "      <td>540</td>\n",
       "      <td>2006-04-25</td>\n",
       "      <td>143</td>\n",
       "    </tr>\n",
       "  </tbody>\n",
       "</table>\n",
       "<p>1000 rows × 6 columns</p>\n",
       "</div>"
      ],
      "text/plain": [
       "     book_id  author_id                                              title  \\\n",
       "0          1        546                                       'Salem's Lot   \n",
       "1          2        465                 1 000 Places to See Before You Die   \n",
       "2          3        407  13 Little Blue Envelopes (Little Blue Envelope...   \n",
       "3          4         82  1491: New Revelations of the Americas Before C...   \n",
       "4          5        125                                               1776   \n",
       "..       ...        ...                                                ...   \n",
       "995      996        571           Wyrd Sisters (Discworld  #6; Witches #2)   \n",
       "996      997        454                        Xenocide (Ender's Saga  #3)   \n",
       "997      998        201                                    Year of Wonders   \n",
       "998      999         94                        You Suck (A Love Story  #2)   \n",
       "999     1000        509  Zen and the Art of Motorcycle Maintenance: An ...   \n",
       "\n",
       "     num_pages publication_date  publisher_id  \n",
       "0          594       2005-11-01            93  \n",
       "1          992       2003-05-22           336  \n",
       "2          322       2010-12-21           135  \n",
       "3          541       2006-10-10           309  \n",
       "4          386       2006-07-04           268  \n",
       "..         ...              ...           ...  \n",
       "995        265       2001-02-06           147  \n",
       "996        592       1996-07-15           297  \n",
       "997        358       2002-04-30           212  \n",
       "998        328       2007-01-16           331  \n",
       "999        540       2006-04-25           143  \n",
       "\n",
       "[1000 rows x 6 columns]"
      ]
     },
     "execution_count": 4,
     "metadata": {},
     "output_type": "execute_result"
    }
   ],
   "source": [
    "query=\"\"\"\n",
    "SELECT * \n",
    "FROM books \n",
    "\"\"\"\n",
    "pd.io.sql.read_sql(query, con = engine)"
   ]
  },
  {
   "cell_type": "code",
   "execution_count": 5,
   "id": "efb434cd",
   "metadata": {},
   "outputs": [
    {
     "data": {
      "text/html": [
       "<div>\n",
       "<style scoped>\n",
       "    .dataframe tbody tr th:only-of-type {\n",
       "        vertical-align: middle;\n",
       "    }\n",
       "\n",
       "    .dataframe tbody tr th {\n",
       "        vertical-align: top;\n",
       "    }\n",
       "\n",
       "    .dataframe thead th {\n",
       "        text-align: right;\n",
       "    }\n",
       "</style>\n",
       "<table border=\"1\" class=\"dataframe\">\n",
       "  <thead>\n",
       "    <tr style=\"text-align: right;\">\n",
       "      <th></th>\n",
       "      <th>book_id</th>\n",
       "      <th>author_id</th>\n",
       "      <th>title</th>\n",
       "      <th>num_pages</th>\n",
       "      <th>publication_date</th>\n",
       "      <th>publisher_id</th>\n",
       "    </tr>\n",
       "  </thead>\n",
       "  <tbody>\n",
       "    <tr>\n",
       "      <th>0</th>\n",
       "      <td>1</td>\n",
       "      <td>546</td>\n",
       "      <td>'Salem's Lot</td>\n",
       "      <td>594</td>\n",
       "      <td>2005-11-01</td>\n",
       "      <td>93</td>\n",
       "    </tr>\n",
       "    <tr>\n",
       "      <th>1</th>\n",
       "      <td>2</td>\n",
       "      <td>465</td>\n",
       "      <td>1 000 Places to See Before You Die</td>\n",
       "      <td>992</td>\n",
       "      <td>2003-05-22</td>\n",
       "      <td>336</td>\n",
       "    </tr>\n",
       "    <tr>\n",
       "      <th>2</th>\n",
       "      <td>3</td>\n",
       "      <td>407</td>\n",
       "      <td>13 Little Blue Envelopes (Little Blue Envelope...</td>\n",
       "      <td>322</td>\n",
       "      <td>2010-12-21</td>\n",
       "      <td>135</td>\n",
       "    </tr>\n",
       "    <tr>\n",
       "      <th>3</th>\n",
       "      <td>4</td>\n",
       "      <td>82</td>\n",
       "      <td>1491: New Revelations of the Americas Before C...</td>\n",
       "      <td>541</td>\n",
       "      <td>2006-10-10</td>\n",
       "      <td>309</td>\n",
       "    </tr>\n",
       "    <tr>\n",
       "      <th>4</th>\n",
       "      <td>5</td>\n",
       "      <td>125</td>\n",
       "      <td>1776</td>\n",
       "      <td>386</td>\n",
       "      <td>2006-07-04</td>\n",
       "      <td>268</td>\n",
       "    </tr>\n",
       "  </tbody>\n",
       "</table>\n",
       "</div>"
      ],
      "text/plain": [
       "   book_id  author_id                                              title  \\\n",
       "0        1        546                                       'Salem's Lot   \n",
       "1        2        465                 1 000 Places to See Before You Die   \n",
       "2        3        407  13 Little Blue Envelopes (Little Blue Envelope...   \n",
       "3        4         82  1491: New Revelations of the Americas Before C...   \n",
       "4        5        125                                               1776   \n",
       "\n",
       "   num_pages publication_date  publisher_id  \n",
       "0        594       2005-11-01            93  \n",
       "1        992       2003-05-22           336  \n",
       "2        322       2010-12-21           135  \n",
       "3        541       2006-10-10           309  \n",
       "4        386       2006-07-04           268  "
      ]
     },
     "execution_count": 5,
     "metadata": {},
     "output_type": "execute_result"
    }
   ],
   "source": [
    "books=pd.read_sql_query(query, con= engine)\n",
    "books.head()"
   ]
  },
  {
   "cell_type": "code",
   "execution_count": 6,
   "id": "8d5ed57c",
   "metadata": {},
   "outputs": [
    {
     "name": "stdout",
     "output_type": "stream",
     "text": [
      "<class 'pandas.core.frame.DataFrame'>\n",
      "RangeIndex: 1000 entries, 0 to 999\n",
      "Data columns (total 6 columns):\n",
      " #   Column            Non-Null Count  Dtype \n",
      "---  ------            --------------  ----- \n",
      " 0   book_id           1000 non-null   int64 \n",
      " 1   author_id         1000 non-null   int64 \n",
      " 2   title             1000 non-null   object\n",
      " 3   num_pages         1000 non-null   int64 \n",
      " 4   publication_date  1000 non-null   object\n",
      " 5   publisher_id      1000 non-null   int64 \n",
      "dtypes: int64(4), object(2)\n",
      "memory usage: 47.0+ KB\n"
     ]
    },
    {
     "data": {
      "text/plain": [
       "0"
      ]
     },
     "execution_count": 6,
     "metadata": {},
     "output_type": "execute_result"
    }
   ],
   "source": [
    "books.info()\n",
    "books.duplicated().sum()"
   ]
  },
  {
   "cell_type": "markdown",
   "id": "2692ce99",
   "metadata": {},
   "source": [
    "- the book table has 1000 rows, 6 columns, without missing values and duplicates."
   ]
  },
  {
   "cell_type": "markdown",
   "id": "7c2ee3ce",
   "metadata": {},
   "source": [
    "Description of the `**authors**` table.\n",
    "Contains data on authors:\n",
    "- `author_id`\n",
    "- `author`"
   ]
  },
  {
   "cell_type": "code",
   "execution_count": 7,
   "id": "619604d6",
   "metadata": {},
   "outputs": [
    {
     "data": {
      "text/html": [
       "<div>\n",
       "<style scoped>\n",
       "    .dataframe tbody tr th:only-of-type {\n",
       "        vertical-align: middle;\n",
       "    }\n",
       "\n",
       "    .dataframe tbody tr th {\n",
       "        vertical-align: top;\n",
       "    }\n",
       "\n",
       "    .dataframe thead th {\n",
       "        text-align: right;\n",
       "    }\n",
       "</style>\n",
       "<table border=\"1\" class=\"dataframe\">\n",
       "  <thead>\n",
       "    <tr style=\"text-align: right;\">\n",
       "      <th></th>\n",
       "      <th>author_id</th>\n",
       "      <th>author</th>\n",
       "    </tr>\n",
       "  </thead>\n",
       "  <tbody>\n",
       "    <tr>\n",
       "      <th>0</th>\n",
       "      <td>1</td>\n",
       "      <td>A.S. Byatt</td>\n",
       "    </tr>\n",
       "    <tr>\n",
       "      <th>1</th>\n",
       "      <td>2</td>\n",
       "      <td>Aesop/Laura Harris/Laura Gibbs</td>\n",
       "    </tr>\n",
       "    <tr>\n",
       "      <th>2</th>\n",
       "      <td>3</td>\n",
       "      <td>Agatha Christie</td>\n",
       "    </tr>\n",
       "    <tr>\n",
       "      <th>3</th>\n",
       "      <td>4</td>\n",
       "      <td>Alan Brennert</td>\n",
       "    </tr>\n",
       "    <tr>\n",
       "      <th>4</th>\n",
       "      <td>5</td>\n",
       "      <td>Alan Moore/David   Lloyd</td>\n",
       "    </tr>\n",
       "  </tbody>\n",
       "</table>\n",
       "</div>"
      ],
      "text/plain": [
       "   author_id                          author\n",
       "0          1                      A.S. Byatt\n",
       "1          2  Aesop/Laura Harris/Laura Gibbs\n",
       "2          3                 Agatha Christie\n",
       "3          4                   Alan Brennert\n",
       "4          5        Alan Moore/David   Lloyd"
      ]
     },
     "execution_count": 7,
     "metadata": {},
     "output_type": "execute_result"
    }
   ],
   "source": [
    "query=\"\"\"\n",
    "SELECT * \n",
    "FROM authors \n",
    "\"\"\"\n",
    "authors=pd.read_sql_query(query, con= engine)\n",
    "authors.head()"
   ]
  },
  {
   "cell_type": "code",
   "execution_count": 8,
   "id": "63555cee",
   "metadata": {},
   "outputs": [
    {
     "name": "stdout",
     "output_type": "stream",
     "text": [
      "<class 'pandas.core.frame.DataFrame'>\n",
      "RangeIndex: 636 entries, 0 to 635\n",
      "Data columns (total 2 columns):\n",
      " #   Column     Non-Null Count  Dtype \n",
      "---  ------     --------------  ----- \n",
      " 0   author_id  636 non-null    int64 \n",
      " 1   author     636 non-null    object\n",
      "dtypes: int64(1), object(1)\n",
      "memory usage: 10.1+ KB\n"
     ]
    },
    {
     "data": {
      "text/plain": [
       "0"
      ]
     },
     "execution_count": 8,
     "metadata": {},
     "output_type": "execute_result"
    }
   ],
   "source": [
    "authors.info()\n",
    "authors.duplicated().sum()"
   ]
  },
  {
   "cell_type": "markdown",
   "id": "0d2a7d88",
   "metadata": {},
   "source": [
    "- the authors table has 636 rows, 2 columns, without missing values and duplicates."
   ]
  },
  {
   "cell_type": "markdown",
   "id": "600c7cd3",
   "metadata": {},
   "source": [
    "Description of the `**publishers**` table.\n",
    "Contains data on publishers:\n",
    "- `publisher_id`\n",
    "- `publisher`"
   ]
  },
  {
   "cell_type": "code",
   "execution_count": 9,
   "id": "de63d703",
   "metadata": {},
   "outputs": [
    {
     "data": {
      "text/html": [
       "<div>\n",
       "<style scoped>\n",
       "    .dataframe tbody tr th:only-of-type {\n",
       "        vertical-align: middle;\n",
       "    }\n",
       "\n",
       "    .dataframe tbody tr th {\n",
       "        vertical-align: top;\n",
       "    }\n",
       "\n",
       "    .dataframe thead th {\n",
       "        text-align: right;\n",
       "    }\n",
       "</style>\n",
       "<table border=\"1\" class=\"dataframe\">\n",
       "  <thead>\n",
       "    <tr style=\"text-align: right;\">\n",
       "      <th></th>\n",
       "      <th>publisher_id</th>\n",
       "      <th>publisher</th>\n",
       "    </tr>\n",
       "  </thead>\n",
       "  <tbody>\n",
       "    <tr>\n",
       "      <th>0</th>\n",
       "      <td>1</td>\n",
       "      <td>Ace</td>\n",
       "    </tr>\n",
       "    <tr>\n",
       "      <th>1</th>\n",
       "      <td>2</td>\n",
       "      <td>Ace Book</td>\n",
       "    </tr>\n",
       "    <tr>\n",
       "      <th>2</th>\n",
       "      <td>3</td>\n",
       "      <td>Ace Books</td>\n",
       "    </tr>\n",
       "    <tr>\n",
       "      <th>3</th>\n",
       "      <td>4</td>\n",
       "      <td>Ace Hardcover</td>\n",
       "    </tr>\n",
       "    <tr>\n",
       "      <th>4</th>\n",
       "      <td>5</td>\n",
       "      <td>Addison Wesley Publishing Company</td>\n",
       "    </tr>\n",
       "  </tbody>\n",
       "</table>\n",
       "</div>"
      ],
      "text/plain": [
       "   publisher_id                          publisher\n",
       "0             1                                Ace\n",
       "1             2                           Ace Book\n",
       "2             3                          Ace Books\n",
       "3             4                      Ace Hardcover\n",
       "4             5  Addison Wesley Publishing Company"
      ]
     },
     "execution_count": 9,
     "metadata": {},
     "output_type": "execute_result"
    }
   ],
   "source": [
    "query=\"\"\"\n",
    "SELECT * \n",
    "FROM publishers \n",
    "\"\"\"\n",
    "publishers=pd.read_sql_query(query, con= engine)\n",
    "publishers.head()"
   ]
  },
  {
   "cell_type": "code",
   "execution_count": 10,
   "id": "3fb11ff8",
   "metadata": {},
   "outputs": [
    {
     "name": "stdout",
     "output_type": "stream",
     "text": [
      "<class 'pandas.core.frame.DataFrame'>\n",
      "RangeIndex: 340 entries, 0 to 339\n",
      "Data columns (total 2 columns):\n",
      " #   Column        Non-Null Count  Dtype \n",
      "---  ------        --------------  ----- \n",
      " 0   publisher_id  340 non-null    int64 \n",
      " 1   publisher     340 non-null    object\n",
      "dtypes: int64(1), object(1)\n",
      "memory usage: 5.4+ KB\n"
     ]
    },
    {
     "data": {
      "text/plain": [
       "0"
      ]
     },
     "execution_count": 10,
     "metadata": {},
     "output_type": "execute_result"
    }
   ],
   "source": [
    "publishers.info()\n",
    "publishers.duplicated().sum()"
   ]
  },
  {
   "cell_type": "markdown",
   "id": "bee3008d",
   "metadata": {},
   "source": [
    "- the publishers table has 340 rows, 2 columns, without missing values and duplicates."
   ]
  },
  {
   "cell_type": "markdown",
   "id": "0284316d",
   "metadata": {},
   "source": [
    "Description of the `**ratings**` table.\n",
    "Contains data on ratings:\n",
    "- `rating_id`\n",
    "- `book_id`\n",
    "- `username` — the name of the user who rated the book\n",
    "- `rating`"
   ]
  },
  {
   "cell_type": "code",
   "execution_count": 11,
   "id": "c9d6bdb2",
   "metadata": {},
   "outputs": [
    {
     "data": {
      "text/html": [
       "<div>\n",
       "<style scoped>\n",
       "    .dataframe tbody tr th:only-of-type {\n",
       "        vertical-align: middle;\n",
       "    }\n",
       "\n",
       "    .dataframe tbody tr th {\n",
       "        vertical-align: top;\n",
       "    }\n",
       "\n",
       "    .dataframe thead th {\n",
       "        text-align: right;\n",
       "    }\n",
       "</style>\n",
       "<table border=\"1\" class=\"dataframe\">\n",
       "  <thead>\n",
       "    <tr style=\"text-align: right;\">\n",
       "      <th></th>\n",
       "      <th>rating_id</th>\n",
       "      <th>book_id</th>\n",
       "      <th>username</th>\n",
       "      <th>rating</th>\n",
       "    </tr>\n",
       "  </thead>\n",
       "  <tbody>\n",
       "    <tr>\n",
       "      <th>0</th>\n",
       "      <td>1</td>\n",
       "      <td>1</td>\n",
       "      <td>ryanfranco</td>\n",
       "      <td>4</td>\n",
       "    </tr>\n",
       "    <tr>\n",
       "      <th>1</th>\n",
       "      <td>2</td>\n",
       "      <td>1</td>\n",
       "      <td>grantpatricia</td>\n",
       "      <td>2</td>\n",
       "    </tr>\n",
       "    <tr>\n",
       "      <th>2</th>\n",
       "      <td>3</td>\n",
       "      <td>1</td>\n",
       "      <td>brandtandrea</td>\n",
       "      <td>5</td>\n",
       "    </tr>\n",
       "    <tr>\n",
       "      <th>3</th>\n",
       "      <td>4</td>\n",
       "      <td>2</td>\n",
       "      <td>lorichen</td>\n",
       "      <td>3</td>\n",
       "    </tr>\n",
       "    <tr>\n",
       "      <th>4</th>\n",
       "      <td>5</td>\n",
       "      <td>2</td>\n",
       "      <td>mariokeller</td>\n",
       "      <td>2</td>\n",
       "    </tr>\n",
       "  </tbody>\n",
       "</table>\n",
       "</div>"
      ],
      "text/plain": [
       "   rating_id  book_id       username  rating\n",
       "0          1        1     ryanfranco       4\n",
       "1          2        1  grantpatricia       2\n",
       "2          3        1   brandtandrea       5\n",
       "3          4        2       lorichen       3\n",
       "4          5        2    mariokeller       2"
      ]
     },
     "execution_count": 11,
     "metadata": {},
     "output_type": "execute_result"
    }
   ],
   "source": [
    "query=\"\"\"\n",
    "SELECT * \n",
    "FROM ratings \n",
    "\"\"\"\n",
    "ratings=pd.read_sql_query(query, con= engine)\n",
    "ratings.head()"
   ]
  },
  {
   "cell_type": "code",
   "execution_count": 12,
   "id": "02152d5e",
   "metadata": {},
   "outputs": [
    {
     "name": "stdout",
     "output_type": "stream",
     "text": [
      "<class 'pandas.core.frame.DataFrame'>\n",
      "RangeIndex: 6456 entries, 0 to 6455\n",
      "Data columns (total 4 columns):\n",
      " #   Column     Non-Null Count  Dtype \n",
      "---  ------     --------------  ----- \n",
      " 0   rating_id  6456 non-null   int64 \n",
      " 1   book_id    6456 non-null   int64 \n",
      " 2   username   6456 non-null   object\n",
      " 3   rating     6456 non-null   int64 \n",
      "dtypes: int64(3), object(1)\n",
      "memory usage: 201.9+ KB\n"
     ]
    },
    {
     "data": {
      "text/plain": [
       "0"
      ]
     },
     "execution_count": 12,
     "metadata": {},
     "output_type": "execute_result"
    }
   ],
   "source": [
    "ratings.info()\n",
    "ratings.duplicated().sum()"
   ]
  },
  {
   "cell_type": "markdown",
   "id": "77e2929f",
   "metadata": {},
   "source": [
    "- the ratings table has 6456 rows, 4 columns, without missing values and duplicates."
   ]
  },
  {
   "cell_type": "markdown",
   "id": "be0db66b",
   "metadata": {},
   "source": [
    "Description of the `**reviews**` table.\n",
    "Contains data on reviews:\n",
    "- `review_id`\n",
    "- `book_id`\n",
    "- `username` — the name of the user who reviewed the book \n",
    "- `text` — the text of the review"
   ]
  },
  {
   "cell_type": "code",
   "execution_count": 13,
   "id": "4f040a5a",
   "metadata": {
    "scrolled": true
   },
   "outputs": [
    {
     "data": {
      "text/html": [
       "<div>\n",
       "<style scoped>\n",
       "    .dataframe tbody tr th:only-of-type {\n",
       "        vertical-align: middle;\n",
       "    }\n",
       "\n",
       "    .dataframe tbody tr th {\n",
       "        vertical-align: top;\n",
       "    }\n",
       "\n",
       "    .dataframe thead th {\n",
       "        text-align: right;\n",
       "    }\n",
       "</style>\n",
       "<table border=\"1\" class=\"dataframe\">\n",
       "  <thead>\n",
       "    <tr style=\"text-align: right;\">\n",
       "      <th></th>\n",
       "      <th>review_id</th>\n",
       "      <th>book_id</th>\n",
       "      <th>username</th>\n",
       "      <th>text</th>\n",
       "    </tr>\n",
       "  </thead>\n",
       "  <tbody>\n",
       "    <tr>\n",
       "      <th>0</th>\n",
       "      <td>1</td>\n",
       "      <td>1</td>\n",
       "      <td>brandtandrea</td>\n",
       "      <td>Mention society tell send professor analysis. ...</td>\n",
       "    </tr>\n",
       "    <tr>\n",
       "      <th>1</th>\n",
       "      <td>2</td>\n",
       "      <td>1</td>\n",
       "      <td>ryanfranco</td>\n",
       "      <td>Foot glass pretty audience hit themselves. Amo...</td>\n",
       "    </tr>\n",
       "    <tr>\n",
       "      <th>2</th>\n",
       "      <td>3</td>\n",
       "      <td>2</td>\n",
       "      <td>lorichen</td>\n",
       "      <td>Listen treat keep worry. Miss husband tax but ...</td>\n",
       "    </tr>\n",
       "    <tr>\n",
       "      <th>3</th>\n",
       "      <td>4</td>\n",
       "      <td>3</td>\n",
       "      <td>johnsonamanda</td>\n",
       "      <td>Finally month interesting blue could nature cu...</td>\n",
       "    </tr>\n",
       "    <tr>\n",
       "      <th>4</th>\n",
       "      <td>5</td>\n",
       "      <td>3</td>\n",
       "      <td>scotttamara</td>\n",
       "      <td>Nation purpose heavy give wait song will. List...</td>\n",
       "    </tr>\n",
       "  </tbody>\n",
       "</table>\n",
       "</div>"
      ],
      "text/plain": [
       "   review_id  book_id       username  \\\n",
       "0          1        1   brandtandrea   \n",
       "1          2        1     ryanfranco   \n",
       "2          3        2       lorichen   \n",
       "3          4        3  johnsonamanda   \n",
       "4          5        3    scotttamara   \n",
       "\n",
       "                                                text  \n",
       "0  Mention society tell send professor analysis. ...  \n",
       "1  Foot glass pretty audience hit themselves. Amo...  \n",
       "2  Listen treat keep worry. Miss husband tax but ...  \n",
       "3  Finally month interesting blue could nature cu...  \n",
       "4  Nation purpose heavy give wait song will. List...  "
      ]
     },
     "execution_count": 13,
     "metadata": {},
     "output_type": "execute_result"
    }
   ],
   "source": [
    "query=\"\"\"\n",
    "SELECT * \n",
    "FROM reviews \n",
    "\"\"\"\n",
    "reviews=pd.read_sql_query(query, con= engine)\n",
    "reviews.head()"
   ]
  },
  {
   "cell_type": "code",
   "execution_count": 14,
   "id": "fb5e8224",
   "metadata": {},
   "outputs": [
    {
     "name": "stdout",
     "output_type": "stream",
     "text": [
      "<class 'pandas.core.frame.DataFrame'>\n",
      "RangeIndex: 2793 entries, 0 to 2792\n",
      "Data columns (total 4 columns):\n",
      " #   Column     Non-Null Count  Dtype \n",
      "---  ------     --------------  ----- \n",
      " 0   review_id  2793 non-null   int64 \n",
      " 1   book_id    2793 non-null   int64 \n",
      " 2   username   2793 non-null   object\n",
      " 3   text       2793 non-null   object\n",
      "dtypes: int64(2), object(2)\n",
      "memory usage: 87.4+ KB\n"
     ]
    },
    {
     "data": {
      "text/plain": [
       "0"
      ]
     },
     "execution_count": 14,
     "metadata": {},
     "output_type": "execute_result"
    }
   ],
   "source": [
    "reviews.info()\n",
    "reviews.duplicated().sum()"
   ]
  },
  {
   "cell_type": "markdown",
   "id": "9d8a58d1",
   "metadata": {},
   "source": [
    "- the reviews table has 6456 rows, 4 columns, without missing values and duplicates."
   ]
  },
  {
   "cell_type": "markdown",
   "id": "0df064ca",
   "metadata": {},
   "source": [
    "### Task\n",
    "#### - Find the number of books released after January 1, 2000."
   ]
  },
  {
   "cell_type": "code",
   "execution_count": 15,
   "id": "d31acafa",
   "metadata": {
    "scrolled": true
   },
   "outputs": [
    {
     "data": {
      "text/html": [
       "<div>\n",
       "<style scoped>\n",
       "    .dataframe tbody tr th:only-of-type {\n",
       "        vertical-align: middle;\n",
       "    }\n",
       "\n",
       "    .dataframe tbody tr th {\n",
       "        vertical-align: top;\n",
       "    }\n",
       "\n",
       "    .dataframe thead th {\n",
       "        text-align: right;\n",
       "    }\n",
       "</style>\n",
       "<table border=\"1\" class=\"dataframe\">\n",
       "  <thead>\n",
       "    <tr style=\"text-align: right;\">\n",
       "      <th></th>\n",
       "      <th>number_of_books</th>\n",
       "    </tr>\n",
       "  </thead>\n",
       "  <tbody>\n",
       "    <tr>\n",
       "      <th>0</th>\n",
       "      <td>821</td>\n",
       "    </tr>\n",
       "  </tbody>\n",
       "</table>\n",
       "</div>"
      ],
      "text/plain": [
       "   number_of_books\n",
       "0              821"
      ]
     },
     "execution_count": 15,
     "metadata": {},
     "output_type": "execute_result"
    }
   ],
   "source": [
    "query=\"\"\"\n",
    "SELECT COUNT (DISTINCT book_id) AS number_of_books\n",
    "FROM books\n",
    "WHERE CAST(publication_date AS timestamp) BETWEEN '2000-01-01' AND CURRENT_DATE\n",
    "\"\"\"\n",
    "table1=pd.read_sql_query(query, con= engine)\n",
    "table1"
   ]
  },
  {
   "cell_type": "markdown",
   "id": "5ec66c5c",
   "metadata": {},
   "source": [
    "- *the number of books released after January 1, 2000 is 821.*"
   ]
  },
  {
   "cell_type": "markdown",
   "id": "c58dc3c0",
   "metadata": {},
   "source": [
    "#### - Find the number of user reviews and the average rating for each book."
   ]
  },
  {
   "cell_type": "code",
   "execution_count": 16,
   "id": "2039016f",
   "metadata": {},
   "outputs": [
    {
     "data": {
      "text/html": [
       "<div>\n",
       "<style scoped>\n",
       "    .dataframe tbody tr th:only-of-type {\n",
       "        vertical-align: middle;\n",
       "    }\n",
       "\n",
       "    .dataframe tbody tr th {\n",
       "        vertical-align: top;\n",
       "    }\n",
       "\n",
       "    .dataframe thead th {\n",
       "        text-align: right;\n",
       "    }\n",
       "</style>\n",
       "<table border=\"1\" class=\"dataframe\">\n",
       "  <thead>\n",
       "    <tr style=\"text-align: right;\">\n",
       "      <th></th>\n",
       "      <th>title</th>\n",
       "      <th>number_of_user_reviews</th>\n",
       "      <th>average_rating</th>\n",
       "    </tr>\n",
       "  </thead>\n",
       "  <tbody>\n",
       "    <tr>\n",
       "      <th>0</th>\n",
       "      <td>Pop Goes the Weasel (Alex Cross  #5)</td>\n",
       "      <td>2.0</td>\n",
       "      <td>5.00</td>\n",
       "    </tr>\n",
       "    <tr>\n",
       "      <th>1</th>\n",
       "      <td>The Ghost Map: The Story of London's Most Terr...</td>\n",
       "      <td>2.0</td>\n",
       "      <td>5.00</td>\n",
       "    </tr>\n",
       "    <tr>\n",
       "      <th>2</th>\n",
       "      <td>In the Hand of the Goddess (Song of the Liones...</td>\n",
       "      <td>2.0</td>\n",
       "      <td>5.00</td>\n",
       "    </tr>\n",
       "    <tr>\n",
       "      <th>3</th>\n",
       "      <td>Tai-Pan (Asian Saga  #2)</td>\n",
       "      <td>2.0</td>\n",
       "      <td>5.00</td>\n",
       "    </tr>\n",
       "    <tr>\n",
       "      <th>4</th>\n",
       "      <td>How to Be a Domestic Goddess: Baking and the A...</td>\n",
       "      <td>1.0</td>\n",
       "      <td>5.00</td>\n",
       "    </tr>\n",
       "    <tr>\n",
       "      <th>...</th>\n",
       "      <td>...</td>\n",
       "      <td>...</td>\n",
       "      <td>...</td>\n",
       "    </tr>\n",
       "    <tr>\n",
       "      <th>995</th>\n",
       "      <td>The World Is Flat: A Brief History of the Twen...</td>\n",
       "      <td>3.0</td>\n",
       "      <td>2.25</td>\n",
       "    </tr>\n",
       "    <tr>\n",
       "      <th>996</th>\n",
       "      <td>Junky</td>\n",
       "      <td>2.0</td>\n",
       "      <td>2.00</td>\n",
       "    </tr>\n",
       "    <tr>\n",
       "      <th>997</th>\n",
       "      <td>His Excellency: George Washington</td>\n",
       "      <td>2.0</td>\n",
       "      <td>2.00</td>\n",
       "    </tr>\n",
       "    <tr>\n",
       "      <th>998</th>\n",
       "      <td>Drowning Ruth</td>\n",
       "      <td>3.0</td>\n",
       "      <td>2.00</td>\n",
       "    </tr>\n",
       "    <tr>\n",
       "      <th>999</th>\n",
       "      <td>Harvesting the Heart</td>\n",
       "      <td>2.0</td>\n",
       "      <td>1.50</td>\n",
       "    </tr>\n",
       "  </tbody>\n",
       "</table>\n",
       "<p>1000 rows × 3 columns</p>\n",
       "</div>"
      ],
      "text/plain": [
       "                                                 title  \\\n",
       "0                 Pop Goes the Weasel (Alex Cross  #5)   \n",
       "1    The Ghost Map: The Story of London's Most Terr...   \n",
       "2    In the Hand of the Goddess (Song of the Liones...   \n",
       "3                             Tai-Pan (Asian Saga  #2)   \n",
       "4    How to Be a Domestic Goddess: Baking and the A...   \n",
       "..                                                 ...   \n",
       "995  The World Is Flat: A Brief History of the Twen...   \n",
       "996                                              Junky   \n",
       "997                  His Excellency: George Washington   \n",
       "998                                      Drowning Ruth   \n",
       "999                               Harvesting the Heart   \n",
       "\n",
       "     number_of_user_reviews  average_rating  \n",
       "0                       2.0            5.00  \n",
       "1                       2.0            5.00  \n",
       "2                       2.0            5.00  \n",
       "3                       2.0            5.00  \n",
       "4                       1.0            5.00  \n",
       "..                      ...             ...  \n",
       "995                     3.0            2.25  \n",
       "996                     2.0            2.00  \n",
       "997                     2.0            2.00  \n",
       "998                     3.0            2.00  \n",
       "999                     2.0            1.50  \n",
       "\n",
       "[1000 rows x 3 columns]"
      ]
     },
     "execution_count": 16,
     "metadata": {},
     "output_type": "execute_result"
    }
   ],
   "source": [
    "query=\"\"\"\n",
    "SELECT b.title,\n",
    "    re.number_of_user_reviews,\n",
    "    r.average_rating\n",
    "FROM (SELECT book_id,\n",
    "            title\n",
    "    FROM books) AS b \n",
    "LEFT JOIN \n",
    "    (SELECT COUNT(text) AS number_of_user_reviews,\n",
    "            book_id\n",
    "    FROM reviews\n",
    "    GROUP BY book_id) AS re ON b.book_id=re.book_id\n",
    "LEFT JOIN    \n",
    "    (SELECT AVG(rating) AS average_rating,\n",
    "            book_id\n",
    "        FROM ratings\n",
    "        GROUP BY book_id) AS r ON b.book_id=r.book_id\n",
    "ORDER BY r.average_rating DESC\n",
    "\"\"\"\n",
    "table2=pd.read_sql_query(query, con= engine)\n",
    "table2"
   ]
  },
  {
   "cell_type": "markdown",
   "id": "160e0889",
   "metadata": {},
   "source": [
    "#### - Identify the publisher that has released the greatest number of books with more than 50 pages (this will help you exclude brochures and similar publications from your analysis)."
   ]
  },
  {
   "cell_type": "code",
   "execution_count": 17,
   "id": "d2f7e07d",
   "metadata": {
    "scrolled": true
   },
   "outputs": [
    {
     "data": {
      "text/html": [
       "<div>\n",
       "<style scoped>\n",
       "    .dataframe tbody tr th:only-of-type {\n",
       "        vertical-align: middle;\n",
       "    }\n",
       "\n",
       "    .dataframe tbody tr th {\n",
       "        vertical-align: top;\n",
       "    }\n",
       "\n",
       "    .dataframe thead th {\n",
       "        text-align: right;\n",
       "    }\n",
       "</style>\n",
       "<table border=\"1\" class=\"dataframe\">\n",
       "  <thead>\n",
       "    <tr style=\"text-align: right;\">\n",
       "      <th></th>\n",
       "      <th>publisher</th>\n",
       "      <th>count</th>\n",
       "    </tr>\n",
       "  </thead>\n",
       "  <tbody>\n",
       "    <tr>\n",
       "      <th>0</th>\n",
       "      <td>Penguin Books</td>\n",
       "      <td>42</td>\n",
       "    </tr>\n",
       "  </tbody>\n",
       "</table>\n",
       "</div>"
      ],
      "text/plain": [
       "       publisher  count\n",
       "0  Penguin Books     42"
      ]
     },
     "execution_count": 17,
     "metadata": {},
     "output_type": "execute_result"
    }
   ],
   "source": [
    "query=\"\"\"\n",
    "SELECT DISTINCT p.publisher,\n",
    "    COUNT(b.book_id) AS count\n",
    "FROM publishers AS p\n",
    "INNER JOIN books AS b ON p.publisher_id=b.publisher_id\n",
    "WHERE b.num_pages>50\n",
    "GROUP BY p.publisher\n",
    "ORDER BY count DESC\n",
    "LIMIT 1\n",
    "\"\"\"\n",
    "table3=pd.read_sql_query(query, con= engine)\n",
    "table3"
   ]
  },
  {
   "cell_type": "markdown",
   "id": "cfeec571",
   "metadata": {},
   "source": [
    "- *the publisher that has released the greatest number of books with more than 50 pages is Penguin Books. They released 42 books.*"
   ]
  },
  {
   "cell_type": "markdown",
   "id": "d2870d31",
   "metadata": {},
   "source": [
    "#### - Identify the author with the highest average book rating (look only at books with at least 50 ratings)."
   ]
  },
  {
   "cell_type": "code",
   "execution_count": 18,
   "id": "96725c61",
   "metadata": {
    "scrolled": true
   },
   "outputs": [
    {
     "data": {
      "text/html": [
       "<div>\n",
       "<style scoped>\n",
       "    .dataframe tbody tr th:only-of-type {\n",
       "        vertical-align: middle;\n",
       "    }\n",
       "\n",
       "    .dataframe tbody tr th {\n",
       "        vertical-align: top;\n",
       "    }\n",
       "\n",
       "    .dataframe thead th {\n",
       "        text-align: right;\n",
       "    }\n",
       "</style>\n",
       "<table border=\"1\" class=\"dataframe\">\n",
       "  <thead>\n",
       "    <tr style=\"text-align: right;\">\n",
       "      <th></th>\n",
       "      <th>author</th>\n",
       "      <th>avg</th>\n",
       "    </tr>\n",
       "  </thead>\n",
       "  <tbody>\n",
       "    <tr>\n",
       "      <th>0</th>\n",
       "      <td>J.K. Rowling/Mary GrandPré</td>\n",
       "      <td>4.288462</td>\n",
       "    </tr>\n",
       "  </tbody>\n",
       "</table>\n",
       "</div>"
      ],
      "text/plain": [
       "                       author       avg\n",
       "0  J.K. Rowling/Mary GrandPré  4.288462"
      ]
     },
     "execution_count": 18,
     "metadata": {},
     "output_type": "execute_result"
    }
   ],
   "source": [
    "query=\"\"\"\n",
    "SELECT a.author,\n",
    "    AVG(r.rating)\n",
    "FROM authors AS a\n",
    "INNER JOIN books AS b ON a.author_id=b.author_id\n",
    "INNER JOIN ratings AS r ON b.book_id=r.book_id\n",
    "GROUP BY a.author\n",
    "HAVING COUNT(r.rating)>50\n",
    "ORDER BY AVG(r.rating) DESC\n",
    "LIMIT 1\n",
    "\"\"\"\n",
    "table4=pd.read_sql_query(query, con= engine)\n",
    "table4"
   ]
  },
  {
   "cell_type": "markdown",
   "id": "639a053e",
   "metadata": {},
   "source": [
    "- *the author with the highest average book rating is J.K. Rowling/Mary GrandPré (average rating is 4.3).*"
   ]
  },
  {
   "cell_type": "markdown",
   "id": "f1c98078",
   "metadata": {},
   "source": [
    "#### - Find the average number of text reviews among users who rated more than 50 books."
   ]
  },
  {
   "cell_type": "code",
   "execution_count": 19,
   "id": "0813a75c",
   "metadata": {},
   "outputs": [
    {
     "data": {
      "text/html": [
       "<div>\n",
       "<style scoped>\n",
       "    .dataframe tbody tr th:only-of-type {\n",
       "        vertical-align: middle;\n",
       "    }\n",
       "\n",
       "    .dataframe tbody tr th {\n",
       "        vertical-align: top;\n",
       "    }\n",
       "\n",
       "    .dataframe thead th {\n",
       "        text-align: right;\n",
       "    }\n",
       "</style>\n",
       "<table border=\"1\" class=\"dataframe\">\n",
       "  <thead>\n",
       "    <tr style=\"text-align: right;\">\n",
       "      <th></th>\n",
       "      <th>avg</th>\n",
       "    </tr>\n",
       "  </thead>\n",
       "  <tbody>\n",
       "    <tr>\n",
       "      <th>0</th>\n",
       "      <td>24.333333</td>\n",
       "    </tr>\n",
       "  </tbody>\n",
       "</table>\n",
       "</div>"
      ],
      "text/plain": [
       "         avg\n",
       "0  24.333333"
      ]
     },
     "execution_count": 19,
     "metadata": {},
     "output_type": "execute_result"
    }
   ],
   "source": [
    "query=\"\"\"\n",
    "SELECT AVG(r.count)\n",
    "FROM (SELECT COUNT(text) as count\n",
    "        FROM reviews\n",
    "        WHERE username IN (SELECT username\n",
    "                        FROM ratings\n",
    "                        GROUP BY username\n",
    "                        HAVING COUNT(rating)>50) \n",
    "        GROUP BY username) AS r\n",
    "\"\"\"\n",
    "table5=pd.read_sql_query(query, con= engine)\n",
    "table5"
   ]
  },
  {
   "cell_type": "markdown",
   "id": "3cfa3419",
   "metadata": {},
   "source": [
    "- *The average number of text reviews among users who rated more than 50 books is 24.3.*"
   ]
  },
  {
   "cell_type": "markdown",
   "id": "0b9fd484",
   "metadata": {},
   "source": [
    "**Conclsuion:**\n",
    "\n",
    "Based on information from the given database of one of the services competing in this market we can see:\n",
    "- the number of books released after January 1, 2000 is 821.\n",
    "- the publisher that has released the greatest number of books with more than 50 pages is Penguin Books. They released 42 books.\n",
    "- the author with the highest average book rating is J.K. Rowling/Mary GrandPré (average rating is 4.3).\n",
    "- the average number of text reviews among users who rated more than 50 books is 24.3."
   ]
  }
 ],
 "metadata": {
  "ExecuteTimeLog": [
   {
    "duration": 415,
    "start_time": "2022-06-18T14:25:01.339Z"
   },
   {
    "duration": 2180,
    "start_time": "2022-06-18T14:25:01.756Z"
   },
   {
    "duration": 173,
    "start_time": "2022-06-18T14:25:03.938Z"
   },
   {
    "duration": 272,
    "start_time": "2022-06-18T14:25:04.113Z"
   },
   {
    "duration": 42,
    "start_time": "2022-06-18T14:25:04.387Z"
   },
   {
    "duration": 73,
    "start_time": "2022-06-18T14:25:04.431Z"
   },
   {
    "duration": 74,
    "start_time": "2022-06-18T14:25:04.506Z"
   },
   {
    "duration": 75,
    "start_time": "2022-06-18T14:25:04.582Z"
   },
   {
    "duration": 76,
    "start_time": "2022-06-18T14:25:04.659Z"
   },
   {
    "duration": 41,
    "start_time": "2022-06-18T14:25:04.737Z"
   },
   {
    "duration": 76,
    "start_time": "2022-06-18T14:25:04.780Z"
   },
   {
    "duration": 42,
    "start_time": "2022-06-18T14:25:04.858Z"
   },
   {
    "duration": 44,
    "start_time": "2022-06-18T14:25:04.902Z"
   },
   {
    "duration": 41,
    "start_time": "2022-06-18T14:25:04.948Z"
   },
   {
    "duration": 42,
    "start_time": "2022-06-18T14:25:04.990Z"
   },
   {
    "duration": 40,
    "start_time": "2022-06-18T14:25:05.033Z"
   },
   {
    "duration": 76,
    "start_time": "2022-06-18T14:56:33.875Z"
   },
   {
    "duration": 74,
    "start_time": "2022-06-18T14:56:44.223Z"
   },
   {
    "duration": 77,
    "start_time": "2022-06-18T15:18:25.385Z"
   },
   {
    "duration": 29,
    "start_time": "2022-06-18T18:05:05.300Z"
   },
   {
    "duration": 41,
    "start_time": "2022-06-18T18:05:17.378Z"
   },
   {
    "duration": 396,
    "start_time": "2022-06-18T18:05:20.956Z"
   },
   {
    "duration": 2229,
    "start_time": "2022-06-18T18:05:21.624Z"
   },
   {
    "duration": 2577,
    "start_time": "2022-06-18T18:05:23.855Z"
   },
   {
    "duration": 301,
    "start_time": "2022-06-18T18:05:34.422Z"
   },
   {
    "duration": 46,
    "start_time": "2022-06-18T18:09:10.536Z"
   },
   {
    "duration": 50,
    "start_time": "2022-06-18T18:11:16.182Z"
   },
   {
    "duration": 47,
    "start_time": "2022-06-18T18:11:26.428Z"
   },
   {
    "duration": 106,
    "start_time": "2022-06-18T18:11:45.850Z"
   },
   {
    "duration": 87,
    "start_time": "2022-06-18T18:11:50.445Z"
   },
   {
    "duration": 71,
    "start_time": "2022-06-18T18:12:17.646Z"
   },
   {
    "duration": 15,
    "start_time": "2022-06-18T18:12:20.919Z"
   },
   {
    "duration": 46,
    "start_time": "2022-06-18T18:13:31.397Z"
   },
   {
    "duration": 53,
    "start_time": "2022-06-18T18:15:55.801Z"
   },
   {
    "duration": 12,
    "start_time": "2022-06-18T18:16:15.917Z"
   },
   {
    "duration": 32,
    "start_time": "2022-06-18T18:22:59.667Z"
   },
   {
    "duration": 42,
    "start_time": "2022-06-18T18:23:09.436Z"
   },
   {
    "duration": 12,
    "start_time": "2022-06-18T18:23:11.098Z"
   },
   {
    "duration": 99,
    "start_time": "2022-06-18T18:27:23.331Z"
   },
   {
    "duration": 14,
    "start_time": "2022-06-18T18:27:42.421Z"
   },
   {
    "duration": 94,
    "start_time": "2022-06-18T18:29:30.518Z"
   },
   {
    "duration": 15,
    "start_time": "2022-06-18T18:29:53.594Z"
   },
   {
    "duration": 14,
    "start_time": "2022-06-18T18:30:27.100Z"
   },
   {
    "duration": 87,
    "start_time": "2022-06-18T18:37:03.694Z"
   },
   {
    "duration": 46,
    "start_time": "2022-06-18T18:37:13.467Z"
   },
   {
    "duration": 51,
    "start_time": "2022-06-18T18:38:12.278Z"
   },
   {
    "duration": 42,
    "start_time": "2022-06-18T18:55:55.805Z"
   },
   {
    "duration": 46,
    "start_time": "2022-06-18T18:58:57.612Z"
   },
   {
    "duration": 43,
    "start_time": "2022-06-18T18:59:06.211Z"
   },
   {
    "duration": 575,
    "start_time": "2022-06-18T19:11:52.980Z"
   },
   {
    "duration": 2314,
    "start_time": "2022-06-18T19:13:05.392Z"
   },
   {
    "duration": 40,
    "start_time": "2022-06-18T19:13:31.349Z"
   },
   {
    "duration": 68,
    "start_time": "2022-06-18T19:19:59.246Z"
   },
   {
    "duration": 74,
    "start_time": "2022-06-18T19:20:58.852Z"
   },
   {
    "duration": 73,
    "start_time": "2022-06-18T19:21:28.098Z"
   },
   {
    "duration": 78,
    "start_time": "2022-06-18T19:21:54.311Z"
   },
   {
    "duration": 413,
    "start_time": "2022-06-18T19:22:46.213Z"
   },
   {
    "duration": 1963,
    "start_time": "2022-06-18T19:22:46.628Z"
   },
   {
    "duration": 176,
    "start_time": "2022-06-18T19:22:48.593Z"
   },
   {
    "duration": 272,
    "start_time": "2022-06-18T19:22:48.771Z"
   },
   {
    "duration": 44,
    "start_time": "2022-06-18T19:22:49.045Z"
   },
   {
    "duration": 14,
    "start_time": "2022-06-18T19:22:49.091Z"
   },
   {
    "duration": 41,
    "start_time": "2022-06-18T19:22:49.107Z"
   },
   {
    "duration": 12,
    "start_time": "2022-06-18T19:22:49.149Z"
   },
   {
    "duration": 48,
    "start_time": "2022-06-18T19:22:49.162Z"
   },
   {
    "duration": 11,
    "start_time": "2022-06-18T19:22:49.212Z"
   },
   {
    "duration": 60,
    "start_time": "2022-06-18T19:22:49.225Z"
   },
   {
    "duration": 14,
    "start_time": "2022-06-18T19:22:49.286Z"
   },
   {
    "duration": 57,
    "start_time": "2022-06-18T19:22:49.302Z"
   },
   {
    "duration": 13,
    "start_time": "2022-06-18T19:22:49.362Z"
   },
   {
    "duration": 40,
    "start_time": "2022-06-18T19:22:49.377Z"
   },
   {
    "duration": 54,
    "start_time": "2022-06-18T19:22:49.419Z"
   },
   {
    "duration": 58,
    "start_time": "2022-06-18T19:22:49.475Z"
   },
   {
    "duration": 41,
    "start_time": "2022-06-18T19:22:49.535Z"
   },
   {
    "duration": 44,
    "start_time": "2022-06-18T19:22:49.577Z"
   },
   {
    "duration": 40,
    "start_time": "2022-06-18T19:22:49.623Z"
   },
   {
    "duration": 40,
    "start_time": "2022-06-18T19:22:49.665Z"
   },
   {
    "duration": 38,
    "start_time": "2022-06-18T19:22:49.707Z"
   },
   {
    "duration": 112,
    "start_time": "2022-06-18T19:23:32.207Z"
   },
   {
    "duration": 67,
    "start_time": "2022-06-18T19:23:40.089Z"
   },
   {
    "duration": 334,
    "start_time": "2022-06-18T22:04:46.816Z"
   },
   {
    "duration": 2219,
    "start_time": "2022-06-18T22:04:47.151Z"
   },
   {
    "duration": 155,
    "start_time": "2022-06-18T22:04:49.372Z"
   },
   {
    "duration": 279,
    "start_time": "2022-06-18T22:04:49.529Z"
   },
   {
    "duration": 55,
    "start_time": "2022-06-18T22:04:49.810Z"
   },
   {
    "duration": 13,
    "start_time": "2022-06-18T22:04:49.867Z"
   },
   {
    "duration": 46,
    "start_time": "2022-06-18T22:04:49.881Z"
   },
   {
    "duration": 10,
    "start_time": "2022-06-18T22:04:49.929Z"
   },
   {
    "duration": 42,
    "start_time": "2022-06-18T22:04:49.940Z"
   },
   {
    "duration": 12,
    "start_time": "2022-06-18T22:04:49.984Z"
   },
   {
    "duration": 71,
    "start_time": "2022-06-18T22:04:49.998Z"
   },
   {
    "duration": 13,
    "start_time": "2022-06-18T22:04:50.070Z"
   },
   {
    "duration": 55,
    "start_time": "2022-06-18T22:04:50.085Z"
   },
   {
    "duration": 14,
    "start_time": "2022-06-18T22:04:50.143Z"
   },
   {
    "duration": 43,
    "start_time": "2022-06-18T22:04:50.158Z"
   },
   {
    "duration": 49,
    "start_time": "2022-06-18T22:04:50.203Z"
   },
   {
    "duration": 53,
    "start_time": "2022-06-18T22:04:50.254Z"
   },
   {
    "duration": 39,
    "start_time": "2022-06-18T22:04:50.309Z"
   },
   {
    "duration": 43,
    "start_time": "2022-06-18T22:04:50.350Z"
   },
   {
    "duration": 40,
    "start_time": "2022-06-18T22:04:50.394Z"
   },
   {
    "duration": 40,
    "start_time": "2022-06-18T22:04:50.435Z"
   },
   {
    "duration": 39,
    "start_time": "2022-06-18T22:04:50.477Z"
   },
   {
    "duration": 394,
    "start_time": "2022-06-19T10:12:18.591Z"
   },
   {
    "duration": 2535,
    "start_time": "2022-06-19T10:12:18.987Z"
   },
   {
    "duration": 198,
    "start_time": "2022-06-19T10:12:21.524Z"
   },
   {
    "duration": 380,
    "start_time": "2022-06-19T10:12:21.724Z"
   },
   {
    "duration": 72,
    "start_time": "2022-06-19T10:12:22.106Z"
   },
   {
    "duration": 15,
    "start_time": "2022-06-19T10:12:22.180Z"
   },
   {
    "duration": 59,
    "start_time": "2022-06-19T10:12:22.197Z"
   },
   {
    "duration": 13,
    "start_time": "2022-06-19T10:12:22.258Z"
   },
   {
    "duration": 71,
    "start_time": "2022-06-19T10:12:22.272Z"
   },
   {
    "duration": 16,
    "start_time": "2022-06-19T10:12:22.346Z"
   },
   {
    "duration": 72,
    "start_time": "2022-06-19T10:12:22.363Z"
   },
   {
    "duration": 20,
    "start_time": "2022-06-19T10:12:22.437Z"
   },
   {
    "duration": 54,
    "start_time": "2022-06-19T10:12:22.458Z"
   },
   {
    "duration": 22,
    "start_time": "2022-06-19T10:12:22.513Z"
   },
   {
    "duration": 66,
    "start_time": "2022-06-19T10:12:22.542Z"
   },
   {
    "duration": 65,
    "start_time": "2022-06-19T10:12:22.610Z"
   },
   {
    "duration": 71,
    "start_time": "2022-06-19T10:12:22.677Z"
   },
   {
    "duration": 43,
    "start_time": "2022-06-19T10:12:22.751Z"
   },
   {
    "duration": 58,
    "start_time": "2022-06-19T10:12:22.796Z"
   },
   {
    "duration": 42,
    "start_time": "2022-06-19T10:12:22.855Z"
   },
   {
    "duration": 53,
    "start_time": "2022-06-19T10:12:22.899Z"
   },
   {
    "duration": 43,
    "start_time": "2022-06-19T10:12:22.954Z"
   },
   {
    "duration": 389,
    "start_time": "2022-06-19T10:12:49.079Z"
   },
   {
    "duration": 2313,
    "start_time": "2022-06-19T10:12:49.470Z"
   },
   {
    "duration": 216,
    "start_time": "2022-06-19T10:12:51.787Z"
   },
   {
    "duration": 357,
    "start_time": "2022-06-19T10:12:52.005Z"
   },
   {
    "duration": 44,
    "start_time": "2022-06-19T10:12:52.365Z"
   },
   {
    "duration": 21,
    "start_time": "2022-06-19T10:12:52.411Z"
   },
   {
    "duration": 74,
    "start_time": "2022-06-19T10:12:52.433Z"
   },
   {
    "duration": 14,
    "start_time": "2022-06-19T10:12:52.509Z"
   },
   {
    "duration": 59,
    "start_time": "2022-06-19T10:12:52.525Z"
   },
   {
    "duration": 14,
    "start_time": "2022-06-19T10:12:52.586Z"
   },
   {
    "duration": 96,
    "start_time": "2022-06-19T10:12:52.602Z"
   },
   {
    "duration": 20,
    "start_time": "2022-06-19T10:12:52.700Z"
   },
   {
    "duration": 82,
    "start_time": "2022-06-19T10:12:52.721Z"
   },
   {
    "duration": 14,
    "start_time": "2022-06-19T10:12:52.806Z"
   },
   {
    "duration": 49,
    "start_time": "2022-06-19T10:12:52.822Z"
   },
   {
    "duration": 49,
    "start_time": "2022-06-19T10:12:52.873Z"
   },
   {
    "duration": 64,
    "start_time": "2022-06-19T10:12:52.924Z"
   },
   {
    "duration": 45,
    "start_time": "2022-06-19T10:12:52.990Z"
   },
   {
    "duration": 47,
    "start_time": "2022-06-19T10:12:53.038Z"
   },
   {
    "duration": 41,
    "start_time": "2022-06-19T10:12:53.087Z"
   },
   {
    "duration": 55,
    "start_time": "2022-06-19T10:12:53.129Z"
   },
   {
    "duration": 40,
    "start_time": "2022-06-19T10:12:53.185Z"
   },
   {
    "duration": 469,
    "start_time": "2022-06-19T12:10:27.952Z"
   },
   {
    "duration": 2875,
    "start_time": "2022-06-19T12:10:28.424Z"
   },
   {
    "duration": 499,
    "start_time": "2022-06-19T12:10:31.301Z"
   },
   {
    "duration": 448,
    "start_time": "2022-06-19T12:10:31.802Z"
   },
   {
    "duration": 83,
    "start_time": "2022-06-19T12:10:32.252Z"
   },
   {
    "duration": 16,
    "start_time": "2022-06-19T12:10:32.337Z"
   },
   {
    "duration": 71,
    "start_time": "2022-06-19T12:10:32.354Z"
   },
   {
    "duration": 16,
    "start_time": "2022-06-19T12:10:32.427Z"
   },
   {
    "duration": 70,
    "start_time": "2022-06-19T12:10:32.445Z"
   },
   {
    "duration": 21,
    "start_time": "2022-06-19T12:10:32.517Z"
   },
   {
    "duration": 132,
    "start_time": "2022-06-19T12:10:32.540Z"
   },
   {
    "duration": 34,
    "start_time": "2022-06-19T12:10:32.675Z"
   },
   {
    "duration": 68,
    "start_time": "2022-06-19T12:10:32.714Z"
   },
   {
    "duration": 24,
    "start_time": "2022-06-19T12:10:32.788Z"
   },
   {
    "duration": 94,
    "start_time": "2022-06-19T12:10:32.814Z"
   },
   {
    "duration": 63,
    "start_time": "2022-06-19T12:10:32.911Z"
   },
   {
    "duration": 79,
    "start_time": "2022-06-19T12:10:32.976Z"
   },
   {
    "duration": 63,
    "start_time": "2022-06-19T12:10:33.057Z"
   },
   {
    "duration": 93,
    "start_time": "2022-06-19T12:10:33.122Z"
   },
   {
    "duration": 41,
    "start_time": "2022-06-19T12:10:33.216Z"
   },
   {
    "duration": 63,
    "start_time": "2022-06-19T12:10:33.272Z"
   },
   {
    "duration": 63,
    "start_time": "2022-06-19T12:10:33.337Z"
   },
   {
    "duration": 323,
    "start_time": "2022-06-19T12:25:57.989Z"
   },
   {
    "duration": 83,
    "start_time": "2022-06-19T12:26:29.623Z"
   },
   {
    "duration": 70,
    "start_time": "2022-06-19T12:26:35.085Z"
   },
   {
    "duration": 82,
    "start_time": "2022-06-19T12:26:37.014Z"
   },
   {
    "duration": 69,
    "start_time": "2022-06-19T12:26:59.826Z"
   },
   {
    "duration": 77,
    "start_time": "2022-06-19T12:54:33.024Z"
   },
   {
    "duration": 46,
    "start_time": "2022-06-19T13:31:38.377Z"
   },
   {
    "duration": 381,
    "start_time": "2022-06-19T13:31:48.051Z"
   },
   {
    "duration": 2183,
    "start_time": "2022-06-19T13:31:48.434Z"
   },
   {
    "duration": 286,
    "start_time": "2022-06-19T13:31:50.619Z"
   },
   {
    "duration": 297,
    "start_time": "2022-06-19T13:31:50.907Z"
   },
   {
    "duration": 42,
    "start_time": "2022-06-19T13:31:51.206Z"
   },
   {
    "duration": 13,
    "start_time": "2022-06-19T13:31:51.250Z"
   },
   {
    "duration": 48,
    "start_time": "2022-06-19T13:31:51.264Z"
   },
   {
    "duration": 12,
    "start_time": "2022-06-19T13:31:51.313Z"
   },
   {
    "duration": 39,
    "start_time": "2022-06-19T13:31:51.327Z"
   },
   {
    "duration": 12,
    "start_time": "2022-06-19T13:31:51.367Z"
   },
   {
    "duration": 75,
    "start_time": "2022-06-19T13:31:51.380Z"
   },
   {
    "duration": 13,
    "start_time": "2022-06-19T13:31:51.457Z"
   },
   {
    "duration": 60,
    "start_time": "2022-06-19T13:31:51.471Z"
   },
   {
    "duration": 13,
    "start_time": "2022-06-19T13:31:51.534Z"
   },
   {
    "duration": 38,
    "start_time": "2022-06-19T13:31:51.548Z"
   },
   {
    "duration": 46,
    "start_time": "2022-06-19T13:31:51.587Z"
   },
   {
    "duration": 53,
    "start_time": "2022-06-19T13:31:51.634Z"
   },
   {
    "duration": 37,
    "start_time": "2022-06-19T13:31:51.689Z"
   },
   {
    "duration": 40,
    "start_time": "2022-06-19T13:31:51.728Z"
   },
   {
    "duration": 36,
    "start_time": "2022-06-19T13:31:51.770Z"
   },
   {
    "duration": 41,
    "start_time": "2022-06-19T13:31:51.808Z"
   },
   {
    "duration": 38,
    "start_time": "2022-06-19T13:31:51.850Z"
   },
   {
    "duration": 38,
    "start_time": "2022-06-19T13:32:26.154Z"
   },
   {
    "duration": 26,
    "start_time": "2022-06-19T13:42:24.714Z"
   },
   {
    "duration": 161,
    "start_time": "2022-06-19T13:42:33.975Z"
   },
   {
    "duration": 80,
    "start_time": "2022-06-19T13:42:52.937Z"
   },
   {
    "duration": 71,
    "start_time": "2022-06-19T13:46:18.421Z"
   },
   {
    "duration": 66,
    "start_time": "2022-06-19T13:47:05.945Z"
   },
   {
    "duration": 77,
    "start_time": "2022-06-19T13:48:42.497Z"
   },
   {
    "duration": 70,
    "start_time": "2022-06-19T13:48:48.889Z"
   },
   {
    "duration": 110,
    "start_time": "2022-06-19T13:50:26.973Z"
   },
   {
    "duration": 70,
    "start_time": "2022-06-19T13:50:49.229Z"
   },
   {
    "duration": 66,
    "start_time": "2022-06-19T13:51:09.393Z"
   },
   {
    "duration": 67,
    "start_time": "2022-06-19T13:51:17.425Z"
   },
   {
    "duration": 78,
    "start_time": "2022-06-19T14:02:01.369Z"
   },
   {
    "duration": 39,
    "start_time": "2022-06-19T14:02:28.987Z"
   },
   {
    "duration": 77,
    "start_time": "2022-06-19T14:03:54.926Z"
   },
   {
    "duration": 66,
    "start_time": "2022-06-19T14:04:39.858Z"
   },
   {
    "duration": 89,
    "start_time": "2022-06-19T14:08:08.120Z"
   },
   {
    "duration": 65,
    "start_time": "2022-06-19T14:08:54.186Z"
   },
   {
    "duration": 88,
    "start_time": "2022-06-19T14:09:21.901Z"
   },
   {
    "duration": 67,
    "start_time": "2022-06-19T14:09:37.106Z"
   },
   {
    "duration": 72,
    "start_time": "2022-06-19T14:11:44.548Z"
   },
   {
    "duration": 41,
    "start_time": "2022-06-19T14:11:54.611Z"
   },
   {
    "duration": 38,
    "start_time": "2022-06-19T14:12:09.142Z"
   },
   {
    "duration": 40,
    "start_time": "2022-06-19T14:12:57.824Z"
   },
   {
    "duration": 966,
    "start_time": "2022-06-19T14:24:29.795Z"
   },
   {
    "duration": 555,
    "start_time": "2022-06-19T14:25:31.410Z"
   },
   {
    "duration": 71,
    "start_time": "2022-06-19T14:27:42.454Z"
   },
   {
    "duration": 75,
    "start_time": "2022-06-19T14:28:31.757Z"
   },
   {
    "duration": 68,
    "start_time": "2022-06-19T14:29:15.260Z"
   },
   {
    "duration": 65,
    "start_time": "2022-06-19T14:29:27.319Z"
   },
   {
    "duration": 67,
    "start_time": "2022-06-19T14:29:57.112Z"
   },
   {
    "duration": 68,
    "start_time": "2022-06-19T14:37:16.949Z"
   },
   {
    "duration": 91,
    "start_time": "2022-06-19T14:37:55.960Z"
   },
   {
    "duration": 65,
    "start_time": "2022-06-19T14:42:18.962Z"
   },
   {
    "duration": 395,
    "start_time": "2022-06-19T14:43:17.643Z"
   },
   {
    "duration": 2062,
    "start_time": "2022-06-19T14:43:18.040Z"
   },
   {
    "duration": 163,
    "start_time": "2022-06-19T14:43:20.105Z"
   },
   {
    "duration": 271,
    "start_time": "2022-06-19T14:43:20.270Z"
   },
   {
    "duration": 43,
    "start_time": "2022-06-19T14:43:20.543Z"
   },
   {
    "duration": 13,
    "start_time": "2022-06-19T14:43:20.587Z"
   },
   {
    "duration": 51,
    "start_time": "2022-06-19T14:43:20.602Z"
   },
   {
    "duration": 12,
    "start_time": "2022-06-19T14:43:20.654Z"
   },
   {
    "duration": 57,
    "start_time": "2022-06-19T14:43:20.667Z"
   },
   {
    "duration": 11,
    "start_time": "2022-06-19T14:43:20.725Z"
   },
   {
    "duration": 71,
    "start_time": "2022-06-19T14:43:20.737Z"
   },
   {
    "duration": 13,
    "start_time": "2022-06-19T14:43:20.810Z"
   },
   {
    "duration": 67,
    "start_time": "2022-06-19T14:43:20.824Z"
   },
   {
    "duration": 12,
    "start_time": "2022-06-19T14:43:20.893Z"
   },
   {
    "duration": 50,
    "start_time": "2022-06-19T14:43:20.906Z"
   },
   {
    "duration": 48,
    "start_time": "2022-06-19T14:43:20.957Z"
   },
   {
    "duration": 56,
    "start_time": "2022-06-19T14:43:21.006Z"
   },
   {
    "duration": 40,
    "start_time": "2022-06-19T14:43:21.064Z"
   },
   {
    "duration": 44,
    "start_time": "2022-06-19T14:43:21.105Z"
   },
   {
    "duration": 39,
    "start_time": "2022-06-19T14:43:21.151Z"
   },
   {
    "duration": 413,
    "start_time": "2022-06-19T14:50:42.929Z"
   },
   {
    "duration": 1991,
    "start_time": "2022-06-19T14:50:43.344Z"
   },
   {
    "duration": 154,
    "start_time": "2022-06-19T14:50:45.337Z"
   },
   {
    "duration": 246,
    "start_time": "2022-06-19T14:50:45.493Z"
   },
   {
    "duration": 49,
    "start_time": "2022-06-19T14:50:45.741Z"
   },
   {
    "duration": 13,
    "start_time": "2022-06-19T14:50:45.792Z"
   },
   {
    "duration": 40,
    "start_time": "2022-06-19T14:50:45.806Z"
   },
   {
    "duration": 11,
    "start_time": "2022-06-19T14:50:45.848Z"
   },
   {
    "duration": 41,
    "start_time": "2022-06-19T14:50:45.861Z"
   },
   {
    "duration": 11,
    "start_time": "2022-06-19T14:50:45.904Z"
   },
   {
    "duration": 60,
    "start_time": "2022-06-19T14:50:45.916Z"
   },
   {
    "duration": 13,
    "start_time": "2022-06-19T14:50:45.977Z"
   },
   {
    "duration": 44,
    "start_time": "2022-06-19T14:50:45.991Z"
   },
   {
    "duration": 14,
    "start_time": "2022-06-19T14:50:46.037Z"
   },
   {
    "duration": 36,
    "start_time": "2022-06-19T14:50:46.053Z"
   },
   {
    "duration": 46,
    "start_time": "2022-06-19T14:50:46.091Z"
   },
   {
    "duration": 51,
    "start_time": "2022-06-19T14:50:46.138Z"
   },
   {
    "duration": 48,
    "start_time": "2022-06-19T14:50:46.191Z"
   },
   {
    "duration": 42,
    "start_time": "2022-06-19T14:50:46.242Z"
   },
   {
    "duration": 42,
    "start_time": "2022-06-19T14:50:46.286Z"
   },
   {
    "duration": 444,
    "start_time": "2022-06-19T19:31:46.952Z"
   },
   {
    "duration": 2956,
    "start_time": "2022-06-19T19:31:47.399Z"
   },
   {
    "duration": 309,
    "start_time": "2022-06-19T19:31:50.357Z"
   },
   {
    "duration": 200,
    "start_time": "2022-06-19T19:31:50.668Z"
   },
   {
    "duration": 0,
    "start_time": "2022-06-19T19:31:50.871Z"
   },
   {
    "duration": 0,
    "start_time": "2022-06-19T19:31:50.872Z"
   },
   {
    "duration": 0,
    "start_time": "2022-06-19T19:31:50.873Z"
   },
   {
    "duration": 0,
    "start_time": "2022-06-19T19:31:50.874Z"
   },
   {
    "duration": 0,
    "start_time": "2022-06-19T19:31:50.874Z"
   },
   {
    "duration": 0,
    "start_time": "2022-06-19T19:31:50.875Z"
   },
   {
    "duration": 0,
    "start_time": "2022-06-19T19:31:50.876Z"
   },
   {
    "duration": 0,
    "start_time": "2022-06-19T19:31:50.877Z"
   },
   {
    "duration": 0,
    "start_time": "2022-06-19T19:31:50.878Z"
   },
   {
    "duration": 0,
    "start_time": "2022-06-19T19:31:50.880Z"
   },
   {
    "duration": 0,
    "start_time": "2022-06-19T19:31:50.881Z"
   },
   {
    "duration": 0,
    "start_time": "2022-06-19T19:31:50.881Z"
   },
   {
    "duration": 0,
    "start_time": "2022-06-19T19:31:50.883Z"
   },
   {
    "duration": 0,
    "start_time": "2022-06-19T19:31:50.884Z"
   },
   {
    "duration": 0,
    "start_time": "2022-06-19T19:31:50.885Z"
   },
   {
    "duration": 0,
    "start_time": "2022-06-19T19:31:50.887Z"
   },
   {
    "duration": 456,
    "start_time": "2022-06-19T20:23:22.401Z"
   },
   {
    "duration": 5593,
    "start_time": "2022-06-19T20:23:22.860Z"
   },
   {
    "duration": 487,
    "start_time": "2022-06-19T20:23:28.456Z"
   },
   {
    "duration": 427,
    "start_time": "2022-06-19T20:23:28.945Z"
   },
   {
    "duration": 79,
    "start_time": "2022-06-19T20:23:29.374Z"
   },
   {
    "duration": 25,
    "start_time": "2022-06-19T20:23:29.455Z"
   },
   {
    "duration": 88,
    "start_time": "2022-06-19T20:23:29.482Z"
   },
   {
    "duration": 29,
    "start_time": "2022-06-19T20:23:29.573Z"
   },
   {
    "duration": 110,
    "start_time": "2022-06-19T20:23:29.604Z"
   },
   {
    "duration": 13,
    "start_time": "2022-06-19T20:23:29.716Z"
   },
   {
    "duration": 98,
    "start_time": "2022-06-19T20:23:29.730Z"
   },
   {
    "duration": 14,
    "start_time": "2022-06-19T20:23:29.829Z"
   },
   {
    "duration": 96,
    "start_time": "2022-06-19T20:23:29.845Z"
   },
   {
    "duration": 15,
    "start_time": "2022-06-19T20:23:29.943Z"
   },
   {
    "duration": 88,
    "start_time": "2022-06-19T20:23:29.960Z"
   },
   {
    "duration": 87,
    "start_time": "2022-06-19T20:23:30.050Z"
   },
   {
    "duration": 75,
    "start_time": "2022-06-19T20:23:30.139Z"
   },
   {
    "duration": 53,
    "start_time": "2022-06-19T20:23:30.216Z"
   },
   {
    "duration": 54,
    "start_time": "2022-06-19T20:23:30.277Z"
   },
   {
    "duration": 81,
    "start_time": "2022-06-19T20:23:30.333Z"
   },
   {
    "duration": 138,
    "start_time": "2022-06-19T20:27:35.286Z"
   },
   {
    "duration": 148,
    "start_time": "2022-06-19T20:27:45.143Z"
   },
   {
    "duration": 88,
    "start_time": "2022-06-19T20:27:51.076Z"
   },
   {
    "duration": 102,
    "start_time": "2022-06-19T20:28:02.881Z"
   },
   {
    "duration": 94,
    "start_time": "2022-06-19T20:29:00.047Z"
   },
   {
    "duration": 89,
    "start_time": "2022-06-19T20:29:54.305Z"
   },
   {
    "duration": 273,
    "start_time": "2022-06-19T20:31:04.771Z"
   },
   {
    "duration": 83,
    "start_time": "2022-06-19T20:31:19.684Z"
   },
   {
    "duration": 103,
    "start_time": "2022-06-19T20:32:41.416Z"
   },
   {
    "duration": 100,
    "start_time": "2022-06-19T20:34:07.347Z"
   },
   {
    "duration": 108,
    "start_time": "2022-06-19T20:36:15.513Z"
   },
   {
    "duration": 111,
    "start_time": "2022-06-19T20:36:23.630Z"
   },
   {
    "duration": 101,
    "start_time": "2022-06-19T20:36:31.540Z"
   },
   {
    "duration": 94,
    "start_time": "2022-06-19T20:37:06.064Z"
   },
   {
    "duration": 77,
    "start_time": "2022-06-19T20:37:12.378Z"
   },
   {
    "duration": 108,
    "start_time": "2022-06-19T20:38:45.240Z"
   },
   {
    "duration": 86,
    "start_time": "2022-06-19T20:38:59.281Z"
   },
   {
    "duration": 107,
    "start_time": "2022-06-19T20:39:43.107Z"
   },
   {
    "duration": 107,
    "start_time": "2022-06-19T20:39:49.143Z"
   },
   {
    "duration": 77,
    "start_time": "2022-06-19T20:39:54.880Z"
   },
   {
    "duration": 11,
    "start_time": "2022-06-19T20:41:41.831Z"
   },
   {
    "duration": 99,
    "start_time": "2022-06-19T20:41:51.830Z"
   },
   {
    "duration": 160,
    "start_time": "2022-06-19T20:42:35.338Z"
   },
   {
    "duration": 90,
    "start_time": "2022-06-19T20:43:32.594Z"
   },
   {
    "duration": 422,
    "start_time": "2022-06-19T20:44:23.104Z"
   },
   {
    "duration": 2238,
    "start_time": "2022-06-19T20:44:23.529Z"
   },
   {
    "duration": 182,
    "start_time": "2022-06-19T20:44:25.772Z"
   },
   {
    "duration": 368,
    "start_time": "2022-06-19T20:44:25.956Z"
   },
   {
    "duration": 74,
    "start_time": "2022-06-19T20:44:26.326Z"
   },
   {
    "duration": 18,
    "start_time": "2022-06-19T20:44:26.402Z"
   },
   {
    "duration": 51,
    "start_time": "2022-06-19T20:44:26.421Z"
   },
   {
    "duration": 14,
    "start_time": "2022-06-19T20:44:26.473Z"
   },
   {
    "duration": 54,
    "start_time": "2022-06-19T20:44:26.488Z"
   },
   {
    "duration": 12,
    "start_time": "2022-06-19T20:44:26.543Z"
   },
   {
    "duration": 75,
    "start_time": "2022-06-19T20:44:26.557Z"
   },
   {
    "duration": 29,
    "start_time": "2022-06-19T20:44:26.633Z"
   },
   {
    "duration": 90,
    "start_time": "2022-06-19T20:44:26.668Z"
   },
   {
    "duration": 21,
    "start_time": "2022-06-19T20:44:26.767Z"
   },
   {
    "duration": 54,
    "start_time": "2022-06-19T20:44:26.790Z"
   },
   {
    "duration": 60,
    "start_time": "2022-06-19T20:44:26.846Z"
   },
   {
    "duration": 44,
    "start_time": "2022-06-19T20:44:26.908Z"
   },
   {
    "duration": 47,
    "start_time": "2022-06-19T20:44:26.954Z"
   },
   {
    "duration": 41,
    "start_time": "2022-06-19T20:44:27.003Z"
   },
   {
    "duration": 56,
    "start_time": "2022-06-19T20:44:27.045Z"
   },
   {
    "duration": 54,
    "start_time": "2022-06-20T07:05:44.080Z"
   },
   {
    "duration": 417,
    "start_time": "2022-06-20T07:05:57.856Z"
   },
   {
    "duration": 6697,
    "start_time": "2022-06-20T07:06:02.267Z"
   },
   {
    "duration": 2476,
    "start_time": "2022-06-20T07:06:08.966Z"
   },
   {
    "duration": 262,
    "start_time": "2022-06-20T07:06:24.445Z"
   },
   {
    "duration": 70,
    "start_time": "2022-06-20T07:08:49.952Z"
   },
   {
    "duration": 81,
    "start_time": "2022-06-20T07:09:00.156Z"
   },
   {
    "duration": 392,
    "start_time": "2022-06-20T07:10:07.955Z"
   },
   {
    "duration": 2313,
    "start_time": "2022-06-20T07:10:08.349Z"
   },
   {
    "duration": 6676,
    "start_time": "2022-06-20T07:10:10.664Z"
   },
   {
    "duration": 269,
    "start_time": "2022-06-20T07:10:17.342Z"
   },
   {
    "duration": 51,
    "start_time": "2022-06-20T07:10:17.614Z"
   },
   {
    "duration": 13,
    "start_time": "2022-06-20T07:10:17.667Z"
   },
   {
    "duration": 53,
    "start_time": "2022-06-20T07:10:17.681Z"
   },
   {
    "duration": 16,
    "start_time": "2022-06-20T07:10:17.736Z"
   },
   {
    "duration": 43,
    "start_time": "2022-06-20T07:10:17.753Z"
   },
   {
    "duration": 12,
    "start_time": "2022-06-20T07:10:17.798Z"
   },
   {
    "duration": 83,
    "start_time": "2022-06-20T07:10:17.812Z"
   },
   {
    "duration": 15,
    "start_time": "2022-06-20T07:10:17.897Z"
   },
   {
    "duration": 67,
    "start_time": "2022-06-20T07:10:17.914Z"
   },
   {
    "duration": 19,
    "start_time": "2022-06-20T07:10:17.985Z"
   },
   {
    "duration": 48,
    "start_time": "2022-06-20T07:10:18.006Z"
   },
   {
    "duration": 50,
    "start_time": "2022-06-20T07:10:18.056Z"
   },
   {
    "duration": 51,
    "start_time": "2022-06-20T07:10:18.108Z"
   },
   {
    "duration": 41,
    "start_time": "2022-06-20T07:10:18.160Z"
   },
   {
    "duration": 51,
    "start_time": "2022-06-20T07:10:18.203Z"
   },
   {
    "duration": 44,
    "start_time": "2022-06-20T07:10:18.256Z"
   },
   {
    "duration": 76,
    "start_time": "2022-06-20T07:13:18.426Z"
   },
   {
    "duration": 73,
    "start_time": "2022-06-20T07:13:43.578Z"
   },
   {
    "duration": 428,
    "start_time": "2022-06-20T07:13:56.225Z"
   },
   {
    "duration": 2267,
    "start_time": "2022-06-20T07:13:56.655Z"
   },
   {
    "duration": 422,
    "start_time": "2022-06-20T08:58:13.896Z"
   },
   {
    "duration": 2157,
    "start_time": "2022-06-20T08:58:14.321Z"
   },
   {
    "duration": 12795,
    "start_time": "2022-06-20T08:58:16.480Z"
   },
   {
    "duration": 71,
    "start_time": "2022-06-20T08:58:29.277Z"
   },
   {
    "duration": 12,
    "start_time": "2022-06-20T08:58:29.350Z"
   },
   {
    "duration": 11,
    "start_time": "2022-06-20T08:58:29.363Z"
   },
   {
    "duration": 10,
    "start_time": "2022-06-20T08:58:29.375Z"
   },
   {
    "duration": 10,
    "start_time": "2022-06-20T08:58:29.386Z"
   },
   {
    "duration": 8,
    "start_time": "2022-06-20T08:58:29.398Z"
   },
   {
    "duration": 10,
    "start_time": "2022-06-20T08:58:29.408Z"
   },
   {
    "duration": 21,
    "start_time": "2022-06-20T08:58:29.419Z"
   },
   {
    "duration": 10,
    "start_time": "2022-06-20T08:58:29.441Z"
   },
   {
    "duration": 16,
    "start_time": "2022-06-20T08:58:29.452Z"
   },
   {
    "duration": 33,
    "start_time": "2022-06-20T08:58:29.470Z"
   },
   {
    "duration": 8,
    "start_time": "2022-06-20T08:58:29.505Z"
   },
   {
    "duration": 19,
    "start_time": "2022-06-20T08:58:29.514Z"
   },
   {
    "duration": 8,
    "start_time": "2022-06-20T08:58:29.534Z"
   },
   {
    "duration": 11,
    "start_time": "2022-06-20T08:58:29.543Z"
   },
   {
    "duration": 8,
    "start_time": "2022-06-20T08:58:29.556Z"
   },
   {
    "duration": 17,
    "start_time": "2022-06-20T09:53:44.749Z"
   },
   {
    "duration": 19,
    "start_time": "2022-06-20T09:53:47.647Z"
   }
  ],
  "kernelspec": {
   "display_name": "Python 3 (ipykernel)",
   "language": "python",
   "name": "python3"
  },
  "language_info": {
   "codemirror_mode": {
    "name": "ipython",
    "version": 3
   },
   "file_extension": ".py",
   "mimetype": "text/x-python",
   "name": "python",
   "nbconvert_exporter": "python",
   "pygments_lexer": "ipython3",
   "version": "3.9.7"
  },
  "toc": {
   "base_numbering": 1,
   "nav_menu": {},
   "number_sections": true,
   "sideBar": true,
   "skip_h1_title": true,
   "title_cell": "Table of Contents",
   "title_sidebar": "Contents",
   "toc_cell": false,
   "toc_position": {},
   "toc_section_display": true,
   "toc_window_display": false
  }
 },
 "nbformat": 4,
 "nbformat_minor": 5
}
